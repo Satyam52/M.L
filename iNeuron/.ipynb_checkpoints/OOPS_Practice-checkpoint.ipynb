{
 "cells": [
  {
   "cell_type": "markdown",
   "metadata": {},
   "source": [
    "# 3 Types of declaring Class"
   ]
  },
  {
   "cell_type": "code",
   "execution_count": 1,
   "metadata": {},
   "outputs": [
    {
     "name": "stdout",
     "output_type": "stream",
     "text": [
      "<__main__.Person object at 0x000001AB04C41D88>\n"
     ]
    }
   ],
   "source": [
    "# Type 1\n",
    "\n",
    "class Person:\n",
    "    pass\n",
    "\n",
    "admin = Person()\n",
    "print(admin)\n",
    "\n",
    "admin.name = \"AKG\"\n",
    "admin.age = 20\n",
    "admin.degree = \"Btech\"\n"
   ]
  },
  {
   "cell_type": "code",
   "execution_count": 2,
   "metadata": {},
   "outputs": [
    {
     "name": "stdout",
     "output_type": "stream",
     "text": [
      "AKG 20 Btech\n"
     ]
    }
   ],
   "source": [
    "print(admin.name,admin.age,admin.degree)"
   ]
  },
  {
   "cell_type": "code",
   "execution_count": 4,
   "metadata": {},
   "outputs": [],
   "source": [
    "#Type 2 with __init__ constructor / dundor method\n",
    "\n",
    "class Person:\n",
    "    \n",
    "    def __init__(self_pointer,name,age,degree):\n",
    "        self_pointer.name = name\n",
    "        self_pointer.age = age\n",
    "        self_pointer.degree = degree\n",
    "        \n",
    "    def __str__(self_pointer):\n",
    "        return f\"{self_pointer.name} studing for {self_pointer.degree} degree at age {self_pointer.age}\"\n",
    "\n",
    "admin = Person(\"AKG\",20,\"Btech\")"
   ]
  },
  {
   "cell_type": "code",
   "execution_count": 5,
   "metadata": {},
   "outputs": [
    {
     "name": "stdout",
     "output_type": "stream",
     "text": [
      "AKG 20 Btech\n",
      "AKG studing for Btech degree at age 20\n"
     ]
    }
   ],
   "source": [
    "print(admin.name,admin.age,admin.degree)\n",
    "print(admin)"
   ]
  },
  {
   "cell_type": "code",
   "execution_count": 6,
   "metadata": {},
   "outputs": [
    {
     "ename": "AttributeError",
     "evalue": "'Person' object has no attribute 'name'",
     "output_type": "error",
     "traceback": [
      "\u001b[1;31m---------------------------------------------------------------------------\u001b[0m",
      "\u001b[1;31mAttributeError\u001b[0m                            Traceback (most recent call last)",
      "\u001b[1;32m<ipython-input-6-551bf113bf5d>\u001b[0m in \u001b[0;36m<module>\u001b[1;34m\u001b[0m\n\u001b[0;32m     10\u001b[0m \u001b[1;33m\u001b[0m\u001b[0m\n\u001b[0;32m     11\u001b[0m \u001b[0madmin\u001b[0m \u001b[1;33m=\u001b[0m \u001b[0mPerson\u001b[0m\u001b[1;33m(\u001b[0m\u001b[1;33m)\u001b[0m\u001b[1;33m\u001b[0m\u001b[1;33m\u001b[0m\u001b[0m\n\u001b[1;32m---> 12\u001b[1;33m \u001b[0madmin\u001b[0m\u001b[1;33m.\u001b[0m\u001b[0mname\u001b[0m\u001b[1;33m\u001b[0m\u001b[1;33m\u001b[0m\u001b[0m\n\u001b[0m",
      "\u001b[1;31mAttributeError\u001b[0m: 'Person' object has no attribute 'name'"
     ]
    }
   ],
   "source": [
    "# Type 3 by using setter and getter function\n",
    "class Person:\n",
    "    \n",
    "    def set_name(self,name):\n",
    "        self.name = name\n",
    "    def set_age(self,age):\n",
    "        self.age = age\n",
    "    def set_degree(self,degree):\n",
    "        self.degree = degree\n",
    "    \n",
    "admin = Person()\n",
    "admin.name"
   ]
  },
  {
   "cell_type": "code",
   "execution_count": 15,
   "metadata": {},
   "outputs": [],
   "source": [
    "admin.set_name(\"AKG\")"
   ]
  },
  {
   "cell_type": "code",
   "execution_count": 16,
   "metadata": {},
   "outputs": [
    {
     "data": {
      "text/plain": [
       "'AKG'"
      ]
     },
     "execution_count": 16,
     "metadata": {},
     "output_type": "execute_result"
    }
   ],
   "source": [
    "admin.name\n"
   ]
  },
  {
   "cell_type": "markdown",
   "metadata": {},
   "source": [
    "## Public,Private and Abstraction"
   ]
  },
  {
   "cell_type": "code",
   "execution_count": 18,
   "metadata": {},
   "outputs": [],
   "source": [
    "#Private variable convention\n",
    "class Person:\n",
    "    def __init__(self,name,surname,year_of_birth):\n",
    "        self._name = name\n",
    "        self._surname = surname\n",
    "        self._year_of_birth = year_of_birth\n",
    "    def age(self,current_year):\n",
    "        return current_year - self._year_of_birth\n",
    "    \n",
    "    def __str__(self):\n",
    "        return \"%s %s and was born on %d\"%(self._name,self._surname,self._year_of_birth)\n",
    "\n",
    "alec = Person(\"Alec\",\"Baldwin\",1958)"
   ]
  },
  {
   "cell_type": "code",
   "execution_count": 20,
   "metadata": {},
   "outputs": [
    {
     "name": "stdout",
     "output_type": "stream",
     "text": [
      "Alec Baldwin and was born on 1958\n",
      "62\n",
      "Alec\n"
     ]
    },
    {
     "data": {
      "text/plain": [
       "{'_name': 'Alec', '_surname': 'Baldwin', '_year_of_birth': 1958}"
      ]
     },
     "execution_count": 20,
     "metadata": {},
     "output_type": "execute_result"
    }
   ],
   "source": [
    "print(alec)\n",
    "print(alec.age(2020))\n",
    "print(alec._name)\n",
    "alec.__dict__"
   ]
  },
  {
   "cell_type": "code",
   "execution_count": 1,
   "metadata": {},
   "outputs": [],
   "source": [
    "#Forcing Private rule\n",
    "class Person:\n",
    "    def __init__(self,name,surname,year_of_birth):\n",
    "        self.__name = name\n",
    "        self.__surname = surname\n",
    "        self.__year_of_birth = year_of_birth\n",
    "    def age(self,current_year):\n",
    "        return current_year - self.__year_of_birth\n",
    "    \n",
    "    def __str__(self):\n",
    "        return \"%s %s and was born on %d\"%(self.__name,self.__surname,self.__year_of_birth)\n",
    "\n",
    "alec = Person(\"Alec\",\"Baldwin\",1958)"
   ]
  },
  {
   "cell_type": "code",
   "execution_count": 2,
   "metadata": {},
   "outputs": [
    {
     "name": "stdout",
     "output_type": "stream",
     "text": [
      "{'_Person__name': 'Alec', '_Person__surname': 'Baldwin', '_Person__year_of_birth': 1958}\n"
     ]
    },
    {
     "data": {
      "text/plain": [
       "dict_keys(['_Person__name', '_Person__surname', '_Person__year_of_birth'])"
      ]
     },
     "execution_count": 2,
     "metadata": {},
     "output_type": "execute_result"
    }
   ],
   "source": [
    "# print(alec.__name)\n",
    "print(alec.__dict__)\n",
    "\n",
    "# print(alec._Person__name)\n",
    "# print(alec.age(2020))\n",
    "alec.__dict__.keys()"
   ]
  },
  {
   "cell_type": "code",
   "execution_count": 44,
   "metadata": {},
   "outputs": [],
   "source": [
    "#Protected Functions\n",
    "class Person:\n",
    "    def __init__(self,nam,surname,dob):\n",
    "        self.nam = nam\n",
    "        self.surname = surname\n",
    "        self.dob = dob\n",
    "    \n",
    "    def name(self):\n",
    "        return self.nam\n",
    "    def _surname(self):\n",
    "        return self.surname\n",
    "    def __age(self,year):\n",
    "        return year- self.dob\n",
    "    \n",
    "admin = Person(\"AKG\",\"Gupta\",2000)\n",
    "    "
   ]
  },
  {
   "cell_type": "code",
   "execution_count": 45,
   "metadata": {},
   "outputs": [
    {
     "name": "stdout",
     "output_type": "stream",
     "text": [
      "AKG\n",
      "Gupta\n",
      "20\n"
     ]
    }
   ],
   "source": [
    "print(admin.name())\n",
    "print(admin._surname())\n",
    "print(admin._Person__age(2020))"
   ]
  },
  {
   "cell_type": "markdown",
   "metadata": {},
   "source": [
    "## Inheritance"
   ]
  },
  {
   "cell_type": "code",
   "execution_count": 46,
   "metadata": {},
   "outputs": [
    {
     "data": {
      "text/plain": [
       "'This is a public method'"
      ]
     },
     "execution_count": 46,
     "metadata": {},
     "output_type": "execute_result"
    }
   ],
   "source": [
    "class xyz: ##parent class\n",
    "    def __init__(self,a,b,c):\n",
    "        self.a = a\n",
    "        self.b = b\n",
    "        self.c = c\n",
    "    def test(self):\n",
    "        return \"This is a public method\"\n",
    "    \n",
    "obj = xyz(3,4,5)\n",
    "obj.test()"
   ]
  },
  {
   "cell_type": "code",
   "execution_count": 50,
   "metadata": {},
   "outputs": [],
   "source": [
    "class abc(xyz):  ##child class\n",
    "    pass\n",
    "\n",
    "obj1= abc(4,5,6)"
   ]
  },
  {
   "cell_type": "code",
   "execution_count": 51,
   "metadata": {},
   "outputs": [
    {
     "data": {
      "text/plain": [
       "'This is a public method'"
      ]
     },
     "execution_count": 51,
     "metadata": {},
     "output_type": "execute_result"
    }
   ],
   "source": [
    "obj1.test()"
   ]
  },
  {
   "cell_type": "code",
   "execution_count": 54,
   "metadata": {},
   "outputs": [
    {
     "name": "stdout",
     "output_type": "stream",
     "text": [
      "4GB Note 4\n"
     ]
    },
    {
     "data": {
      "text/plain": [
       "'16Gb'"
      ]
     },
     "execution_count": 54,
     "metadata": {},
     "output_type": "execute_result"
    }
   ],
   "source": [
    "# Inherit custom varibles\n",
    "class Phone:\n",
    "    def __init__(self, name, brand, price):\n",
    "        self.name = name\n",
    "        self.price = price\n",
    "        self.brand = brand\n",
    "\n",
    "    def full_name(self):\n",
    "        return self.name\n",
    "\n",
    "    def phone_price(self):\n",
    "        return self.price\n",
    "\n",
    "\n",
    "class SmartPhone(Phone):\n",
    "\n",
    "    def __init__(self, name, brand, price, ram, rom):\n",
    "        # Phone.__init__(self, name, brand, price) old Way\n",
    "\n",
    "        super().__init__(name, brand, price) # common way\n",
    "        self.ram = ram\n",
    "        self.rom = rom\n",
    "\n",
    "    def get_ram(self):\n",
    "        return self.ram\n",
    "\n",
    "    def get_rom(self):\n",
    "        return self.rom\n",
    "\n",
    "\n",
    "redmi = SmartPhone(\"Note 4\", \"Redmi\", 10000, \"4GB\", \"16Gb\")\n",
    "print(redmi.ram, redmi.name)\n",
    "redmi.get_rom()"
   ]
  },
  {
   "cell_type": "code",
   "execution_count": 4,
   "metadata": {},
   "outputs": [
    {
     "name": "stdout",
     "output_type": "stream",
     "text": [
      "1 2 3 from class 1\n",
      " 4 5 6 from class 2\n",
      " 6 7 8 from class 3\n",
      " from class 4\n",
      "\n"
     ]
    }
   ],
   "source": [
    "class name1:\n",
    "    def __init__(self, a1, a2, a3):\n",
    "        self.a1 = a1\n",
    "        self.a2 = a2\n",
    "        self.a3 = a3\n",
    "\n",
    "    def m1(self):\n",
    "        return f\"{self.a1} {self.a2} {self.a3} from class 1\\n\"\n",
    "\n",
    "\n",
    "class name2:\n",
    "    def __init__(self, b1, b2, b3):\n",
    "        self.b1 = b1\n",
    "        self.b2 = b2\n",
    "        self.b3 = b3\n",
    "\n",
    "    def m2(self):\n",
    "        return f\"{self.b1} {self.b2} {self.b3} from class 2\\n\"\n",
    "\n",
    "\n",
    "class name3:\n",
    "    def __init__(self, c1, c2, c3):\n",
    "        self.c1 = c1\n",
    "        self.c2 = c2\n",
    "        self.c3 = c3\n",
    "\n",
    "    def m3(self):\n",
    "        return f\"{self.c1} {self.c2} {self.c3} from class 3\\n\"\n",
    "\n",
    "\n",
    "class name4:\n",
    "    def __init__(self, d1, d2, d3):\n",
    "        self.d1 = d1\n",
    "        self.d2 = d2\n",
    "        self.d3 = d3\n",
    "\n",
    "    def m4(self):\n",
    "        return f\"{self.d1.m1()} {self.d2.m2()} {self.d3.m3()} from class 4\\n\"\n",
    "\n",
    "\n",
    "obj1 = name1(1, 2, 3)\n",
    "obj2 = name2(4, 5, 6)\n",
    "obj3 = name3(6, 7, 8)\n",
    "obj4 = name4(obj1, obj2, obj3)\n",
    "\n",
    "print(obj4.m4())\n"
   ]
  },
  {
   "cell_type": "code",
   "execution_count": 3,
   "metadata": {},
   "outputs": [
    {
     "name": "stdout",
     "output_type": "stream",
     "text": [
      "{'_a': 1, '_c1__b': 2}\n",
      "1 2\n"
     ]
    }
   ],
   "source": [
    "class c1:\n",
    "    def __init__(self, a, b):\n",
    "        self._a = a\n",
    "        self.__b = b\n",
    "\n",
    "\n",
    "class c2(c1):\n",
    "    def __init__(self, a, b):\n",
    "        super().__init__(a, b)\n",
    "\n",
    "    def __str__(self):\n",
    "        return f\"{self._a} {self._c1__b}\"\n",
    "\n",
    "\n",
    "obj = c2(1, 2)\n",
    "print(obj.__dict__)\n",
    "print(obj)\n"
   ]
  },
  {
   "cell_type": "code",
   "execution_count": null,
   "metadata": {},
   "outputs": [],
   "source": []
  }
 ],
 "metadata": {
  "kernelspec": {
   "display_name": "Python 3",
   "language": "python",
   "name": "python3"
  },
  "language_info": {
   "codemirror_mode": {
    "name": "ipython",
    "version": 3
   },
   "file_extension": ".py",
   "mimetype": "text/x-python",
   "name": "python",
   "nbconvert_exporter": "python",
   "pygments_lexer": "ipython3",
   "version": "3.7.6"
  },
  "widgets": {
   "application/vnd.jupyter.widget-state+json": {
    "state": {},
    "version_major": 2,
    "version_minor": 0
   }
  }
 },
 "nbformat": 4,
 "nbformat_minor": 4
}

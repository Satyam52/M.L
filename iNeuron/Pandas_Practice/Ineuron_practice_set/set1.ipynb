{
 "cells": [
  {
   "cell_type": "code",
   "execution_count": 6,
   "metadata": {},
   "outputs": [
    {
     "data": {
      "text/html": [
       "<div>\n",
       "<style scoped>\n",
       "    .dataframe tbody tr th:only-of-type {\n",
       "        vertical-align: middle;\n",
       "    }\n",
       "\n",
       "    .dataframe tbody tr th {\n",
       "        vertical-align: top;\n",
       "    }\n",
       "\n",
       "    .dataframe thead th {\n",
       "        text-align: right;\n",
       "    }\n",
       "</style>\n",
       "<table border=\"1\" class=\"dataframe\">\n",
       "  <thead>\n",
       "    <tr style=\"text-align: right;\">\n",
       "      <th></th>\n",
       "      <th>Indicator</th>\n",
       "      <th>PUBLISH STATES</th>\n",
       "      <th>Year</th>\n",
       "      <th>WHO region</th>\n",
       "      <th>World Bank income group</th>\n",
       "      <th>Country</th>\n",
       "      <th>Sex</th>\n",
       "      <th>Display Value</th>\n",
       "      <th>Numeric</th>\n",
       "      <th>Low</th>\n",
       "      <th>High</th>\n",
       "      <th>Comments</th>\n",
       "    </tr>\n",
       "  </thead>\n",
       "  <tbody>\n",
       "    <tr>\n",
       "      <th>0</th>\n",
       "      <td>Life expectancy at birth (years)</td>\n",
       "      <td>Published</td>\n",
       "      <td>1990</td>\n",
       "      <td>Europe</td>\n",
       "      <td>High-income</td>\n",
       "      <td>Andorra</td>\n",
       "      <td>Both sexes</td>\n",
       "      <td>77</td>\n",
       "      <td>77.0</td>\n",
       "      <td>NaN</td>\n",
       "      <td>NaN</td>\n",
       "      <td>NaN</td>\n",
       "    </tr>\n",
       "    <tr>\n",
       "      <th>1</th>\n",
       "      <td>Life expectancy at birth (years)</td>\n",
       "      <td>Published</td>\n",
       "      <td>2000</td>\n",
       "      <td>Europe</td>\n",
       "      <td>High-income</td>\n",
       "      <td>Andorra</td>\n",
       "      <td>Both sexes</td>\n",
       "      <td>80</td>\n",
       "      <td>80.0</td>\n",
       "      <td>NaN</td>\n",
       "      <td>NaN</td>\n",
       "      <td>NaN</td>\n",
       "    </tr>\n",
       "  </tbody>\n",
       "</table>\n",
       "</div>"
      ],
      "text/plain": [
       "                          Indicator PUBLISH STATES  Year WHO region  \\\n",
       "0  Life expectancy at birth (years)      Published  1990     Europe   \n",
       "1  Life expectancy at birth (years)      Published  2000     Europe   \n",
       "\n",
       "  World Bank income group  Country         Sex  Display Value  Numeric  Low  \\\n",
       "0             High-income  Andorra  Both sexes             77     77.0  NaN   \n",
       "1             High-income  Andorra  Both sexes             80     80.0  NaN   \n",
       "\n",
       "   High  Comments  \n",
       "0   NaN       NaN  \n",
       "1   NaN       NaN  "
      ]
     },
     "execution_count": 6,
     "metadata": {},
     "output_type": "execute_result"
    }
   ],
   "source": [
    "import pandas as pd\n",
    "import numpy as np\n",
    "import matplotlib.pyplot as plt\n",
    "%matplotlib inline\n",
    "\n",
    "df = pd.read_csv('https://raw.githubusercontent.com/jackiekazil/data-wrangling/master/data/chp3/data-text.csv')\n",
    "df.head(2)\n"
   ]
  },
  {
   "cell_type": "code",
   "execution_count": 7,
   "metadata": {},
   "outputs": [
    {
     "data": {
      "text/html": [
       "<div>\n",
       "<style scoped>\n",
       "    .dataframe tbody tr th:only-of-type {\n",
       "        vertical-align: middle;\n",
       "    }\n",
       "\n",
       "    .dataframe tbody tr th {\n",
       "        vertical-align: top;\n",
       "    }\n",
       "\n",
       "    .dataframe thead th {\n",
       "        text-align: right;\n",
       "    }\n",
       "</style>\n",
       "<table border=\"1\" class=\"dataframe\">\n",
       "  <thead>\n",
       "    <tr style=\"text-align: right;\">\n",
       "      <th></th>\n",
       "      <th>STATION</th>\n",
       "      <th>STATION_NAME</th>\n",
       "      <th>DATE</th>\n",
       "      <th>PRCP</th>\n",
       "      <th>SNWD</th>\n",
       "      <th>SNOW</th>\n",
       "      <th>TMAX</th>\n",
       "      <th>TMIN</th>\n",
       "      <th>WDFG</th>\n",
       "      <th>PGTM</th>\n",
       "      <th>...</th>\n",
       "      <th>WT09</th>\n",
       "      <th>WT07</th>\n",
       "      <th>WT01</th>\n",
       "      <th>WT06</th>\n",
       "      <th>WT05</th>\n",
       "      <th>WT04</th>\n",
       "      <th>WT16</th>\n",
       "      <th>WT08</th>\n",
       "      <th>WT18</th>\n",
       "      <th>WT03</th>\n",
       "    </tr>\n",
       "  </thead>\n",
       "  <tbody>\n",
       "    <tr>\n",
       "      <th>0</th>\n",
       "      <td>GHCND:GME00111445</td>\n",
       "      <td>BERLIN TEMPELHOF GM</td>\n",
       "      <td>19310101</td>\n",
       "      <td>46</td>\n",
       "      <td>-9999</td>\n",
       "      <td>-9999</td>\n",
       "      <td>-9999</td>\n",
       "      <td>-11</td>\n",
       "      <td>-9999</td>\n",
       "      <td>-9999</td>\n",
       "      <td>...</td>\n",
       "      <td>-9999</td>\n",
       "      <td>-9999</td>\n",
       "      <td>-9999</td>\n",
       "      <td>-9999</td>\n",
       "      <td>-9999</td>\n",
       "      <td>-9999</td>\n",
       "      <td>-9999</td>\n",
       "      <td>-9999</td>\n",
       "      <td>-9999</td>\n",
       "      <td>-9999</td>\n",
       "    </tr>\n",
       "    <tr>\n",
       "      <th>1</th>\n",
       "      <td>GHCND:GME00111445</td>\n",
       "      <td>BERLIN TEMPELHOF GM</td>\n",
       "      <td>19310102</td>\n",
       "      <td>107</td>\n",
       "      <td>-9999</td>\n",
       "      <td>-9999</td>\n",
       "      <td>50</td>\n",
       "      <td>11</td>\n",
       "      <td>-9999</td>\n",
       "      <td>-9999</td>\n",
       "      <td>...</td>\n",
       "      <td>-9999</td>\n",
       "      <td>-9999</td>\n",
       "      <td>-9999</td>\n",
       "      <td>-9999</td>\n",
       "      <td>-9999</td>\n",
       "      <td>-9999</td>\n",
       "      <td>-9999</td>\n",
       "      <td>-9999</td>\n",
       "      <td>-9999</td>\n",
       "      <td>-9999</td>\n",
       "    </tr>\n",
       "  </tbody>\n",
       "</table>\n",
       "<p>2 rows × 21 columns</p>\n",
       "</div>"
      ],
      "text/plain": [
       "             STATION         STATION_NAME      DATE  PRCP  SNWD  SNOW  TMAX  \\\n",
       "0  GHCND:GME00111445  BERLIN TEMPELHOF GM  19310101    46 -9999 -9999 -9999   \n",
       "1  GHCND:GME00111445  BERLIN TEMPELHOF GM  19310102   107 -9999 -9999    50   \n",
       "\n",
       "   TMIN  WDFG  PGTM  ...  WT09  WT07  WT01  WT06  WT05  WT04  WT16  WT08  \\\n",
       "0   -11 -9999 -9999  ... -9999 -9999 -9999 -9999 -9999 -9999 -9999 -9999   \n",
       "1    11 -9999 -9999  ... -9999 -9999 -9999 -9999 -9999 -9999 -9999 -9999   \n",
       "\n",
       "   WT18  WT03  \n",
       "0 -9999 -9999  \n",
       "1 -9999 -9999  \n",
       "\n",
       "[2 rows x 21 columns]"
      ]
     },
     "execution_count": 7,
     "metadata": {},
     "output_type": "execute_result"
    }
   ],
   "source": [
    "df1 = pd.read_csv('https://raw.githubusercontent.com/kjam/data-wrangling-pycon/master/data/berlin_weather_oldest.csv')\n",
    "df1.head(2)"
   ]
  },
  {
   "cell_type": "markdown",
   "metadata": {},
   "source": [
    "> ### 1.Get the Metadata from the above files."
   ]
  },
  {
   "cell_type": "code",
   "execution_count": 12,
   "metadata": {},
   "outputs": [
    {
     "name": "stdout",
     "output_type": "stream",
     "text": [
      "<class 'pandas.core.frame.DataFrame'>\n",
      "RangeIndex: 4656 entries, 0 to 4655\n",
      "Data columns (total 12 columns):\n",
      " #   Column                   Non-Null Count  Dtype  \n",
      "---  ------                   --------------  -----  \n",
      " 0   Indicator                4656 non-null   object \n",
      " 1   PUBLISH STATES           4656 non-null   object \n",
      " 2   Year                     4656 non-null   int64  \n",
      " 3   WHO region               4656 non-null   object \n",
      " 4   World Bank income group  4656 non-null   object \n",
      " 5   Country                  4656 non-null   object \n",
      " 6   Sex                      4656 non-null   object \n",
      " 7   Display Value            4656 non-null   int64  \n",
      " 8   Numeric                  4656 non-null   float64\n",
      " 9   Low                      0 non-null      float64\n",
      " 10  High                     0 non-null      float64\n",
      " 11  Comments                 0 non-null      float64\n",
      "dtypes: float64(4), int64(2), object(6)\n",
      "memory usage: 436.6+ KB\n"
     ]
    }
   ],
   "source": [
    "df.info()\n"
   ]
  },
  {
   "cell_type": "code",
   "execution_count": 13,
   "metadata": {},
   "outputs": [
    {
     "name": "stdout",
     "output_type": "stream",
     "text": [
      "<class 'pandas.core.frame.DataFrame'>\n",
      "RangeIndex: 117208 entries, 0 to 117207\n",
      "Data columns (total 21 columns):\n",
      " #   Column        Non-Null Count   Dtype \n",
      "---  ------        --------------   ----- \n",
      " 0   STATION       117208 non-null  object\n",
      " 1   STATION_NAME  117208 non-null  object\n",
      " 2   DATE          117208 non-null  int64 \n",
      " 3   PRCP          117208 non-null  int64 \n",
      " 4   SNWD          117208 non-null  int64 \n",
      " 5   SNOW          117208 non-null  int64 \n",
      " 6   TMAX          117208 non-null  int64 \n",
      " 7   TMIN          117208 non-null  int64 \n",
      " 8   WDFG          117208 non-null  int64 \n",
      " 9   PGTM          117208 non-null  int64 \n",
      " 10  WSFG          117208 non-null  int64 \n",
      " 11  WT09          117208 non-null  int64 \n",
      " 12  WT07          117208 non-null  int64 \n",
      " 13  WT01          117208 non-null  int64 \n",
      " 14  WT06          117208 non-null  int64 \n",
      " 15  WT05          117208 non-null  int64 \n",
      " 16  WT04          117208 non-null  int64 \n",
      " 17  WT16          117208 non-null  int64 \n",
      " 18  WT08          117208 non-null  int64 \n",
      " 19  WT18          117208 non-null  int64 \n",
      " 20  WT03          117208 non-null  int64 \n",
      "dtypes: int64(19), object(2)\n",
      "memory usage: 18.8+ MB\n"
     ]
    }
   ],
   "source": [
    "df1.info()"
   ]
  },
  {
   "cell_type": "markdown",
   "metadata": {},
   "source": [
    "> ### 2. Get the row names from the above files."
   ]
  },
  {
   "cell_type": "code",
   "execution_count": 30,
   "metadata": {},
   "outputs": [
    {
     "data": {
      "text/plain": [
       "Index(['Indicator', 'PUBLISH STATES', 'Year', 'WHO region',\n",
       "       'World Bank income group', 'Country', 'Sex', 'Display Value', 'Numeric',\n",
       "       'Low', 'High', 'Comments'],\n",
       "      dtype='object')"
      ]
     },
     "execution_count": 30,
     "metadata": {},
     "output_type": "execute_result"
    }
   ],
   "source": [
    "df.columns"
   ]
  },
  {
   "cell_type": "code",
   "execution_count": 31,
   "metadata": {},
   "outputs": [
    {
     "data": {
      "text/plain": [
       "Index(['STATION', 'STATION_NAME', 'DATE', 'PRCP', 'SNWD', 'SNOW', 'TMAX',\n",
       "       'TMIN', 'WDFG', 'PGTM', 'WSFG', 'WT09', 'WT07', 'WT01', 'WT06', 'WT05',\n",
       "       'WT04', 'WT16', 'WT08', 'WT18', 'WT03'],\n",
       "      dtype='object')"
      ]
     },
     "execution_count": 31,
     "metadata": {},
     "output_type": "execute_result"
    }
   ],
   "source": [
    "df1.columns"
   ]
  },
  {
   "cell_type": "markdown",
   "metadata": {},
   "source": [
    "> ### 3. Change the column name from any of the above file."
   ]
  },
  {
   "cell_type": "code",
   "execution_count": 32,
   "metadata": {},
   "outputs": [],
   "source": [
    "df.columns = ['Indicator_id', 'PUBLISH STATES', 'Year', 'WHO region',\n",
    "       'World Bank income group', 'Country', 'Sex', 'Display Value', 'Numeric',\n",
    "       'Low', 'High', 'Comments']"
   ]
  },
  {
   "cell_type": "code",
   "execution_count": 33,
   "metadata": {},
   "outputs": [
    {
     "data": {
      "text/html": [
       "<div>\n",
       "<style scoped>\n",
       "    .dataframe tbody tr th:only-of-type {\n",
       "        vertical-align: middle;\n",
       "    }\n",
       "\n",
       "    .dataframe tbody tr th {\n",
       "        vertical-align: top;\n",
       "    }\n",
       "\n",
       "    .dataframe thead th {\n",
       "        text-align: right;\n",
       "    }\n",
       "</style>\n",
       "<table border=\"1\" class=\"dataframe\">\n",
       "  <thead>\n",
       "    <tr style=\"text-align: right;\">\n",
       "      <th></th>\n",
       "      <th>Indicator_id</th>\n",
       "      <th>PUBLISH STATES</th>\n",
       "      <th>Year</th>\n",
       "      <th>WHO region</th>\n",
       "      <th>World Bank income group</th>\n",
       "      <th>Country</th>\n",
       "      <th>Sex</th>\n",
       "      <th>Display Value</th>\n",
       "      <th>Numeric</th>\n",
       "      <th>Low</th>\n",
       "      <th>High</th>\n",
       "      <th>Comments</th>\n",
       "    </tr>\n",
       "  </thead>\n",
       "  <tbody>\n",
       "    <tr>\n",
       "      <th>0</th>\n",
       "      <td>Life expectancy at birth (years)</td>\n",
       "      <td>Published</td>\n",
       "      <td>1990</td>\n",
       "      <td>Europe</td>\n",
       "      <td>High-income</td>\n",
       "      <td>Andorra</td>\n",
       "      <td>Both sexes</td>\n",
       "      <td>77</td>\n",
       "      <td>77.0</td>\n",
       "      <td>NaN</td>\n",
       "      <td>NaN</td>\n",
       "      <td>NaN</td>\n",
       "    </tr>\n",
       "    <tr>\n",
       "      <th>1</th>\n",
       "      <td>Life expectancy at birth (years)</td>\n",
       "      <td>Published</td>\n",
       "      <td>2000</td>\n",
       "      <td>Europe</td>\n",
       "      <td>High-income</td>\n",
       "      <td>Andorra</td>\n",
       "      <td>Both sexes</td>\n",
       "      <td>80</td>\n",
       "      <td>80.0</td>\n",
       "      <td>NaN</td>\n",
       "      <td>NaN</td>\n",
       "      <td>NaN</td>\n",
       "    </tr>\n",
       "  </tbody>\n",
       "</table>\n",
       "</div>"
      ],
      "text/plain": [
       "                       Indicator_id PUBLISH STATES  Year WHO region  \\\n",
       "0  Life expectancy at birth (years)      Published  1990     Europe   \n",
       "1  Life expectancy at birth (years)      Published  2000     Europe   \n",
       "\n",
       "  World Bank income group  Country         Sex  Display Value  Numeric  Low  \\\n",
       "0             High-income  Andorra  Both sexes             77     77.0  NaN   \n",
       "1             High-income  Andorra  Both sexes             80     80.0  NaN   \n",
       "\n",
       "   High  Comments  \n",
       "0   NaN       NaN  \n",
       "1   NaN       NaN  "
      ]
     },
     "execution_count": 33,
     "metadata": {},
     "output_type": "execute_result"
    }
   ],
   "source": [
    "df.head(2)"
   ]
  },
  {
   "cell_type": "markdown",
   "metadata": {},
   "source": [
    "> ### 4.Change the column name from any of the above file and store the changes made\n",
    "permanently."
   ]
  },
  {
   "cell_type": "code",
   "execution_count": null,
   "metadata": {},
   "outputs": [],
   "source": [
    "df.sa"
   ]
  }
 ],
 "metadata": {
  "kernelspec": {
   "display_name": "Python 3",
   "language": "python",
   "name": "python3"
  }
 },
 "nbformat": 4,
 "nbformat_minor": 4
}
